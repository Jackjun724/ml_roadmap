{
 "cells": [
  {
   "cell_type": "markdown",
   "metadata": {},
   "source": [
    "## Softmax 手写数字辨识"
   ]
  },
  {
   "cell_type": "markdown",
   "metadata": {},
   "source": [
    "### Load data"
   ]
  },
  {
   "cell_type": "code",
   "execution_count": 1,
   "metadata": {},
   "outputs": [
    {
     "name": "stdout",
     "output_type": "stream",
     "text": [
      "Collecting package metadata (current_repodata.json): done\n",
      "Solving environment: done\n",
      "\n",
      "# All requested packages already installed.\n",
      "\n",
      "Data Shape:  (1797, 64)\n",
      "Label Shape:  (1797,)\n"
     ]
    }
   ],
   "source": [
    "!conda install pytorch -y\n",
    "import torch\n",
    "import numpy as np\n",
    "from sklearn.datasets import load_digits\n",
    "mnist = load_digits()\n",
    "data = mnist.data\n",
    "label = mnist.target\n",
    "\n",
    "print(\"Data Shape: \", data.shape)\n",
    "print(\"Label Shape: \", label.shape)"
   ]
  },
  {
   "cell_type": "markdown",
   "metadata": {},
   "source": [
    "### Preprocessing"
   ]
  },
  {
   "cell_type": "markdown",
   "metadata": {},
   "source": [
    "**Data Scale**"
   ]
  },
  {
   "cell_type": "code",
   "execution_count": 2,
   "metadata": {},
   "outputs": [],
   "source": [
    "x_data = data/255\n",
    "y_label = label"
   ]
  },
  {
   "cell_type": "markdown",
   "metadata": {},
   "source": [
    "**Split data**"
   ]
  },
  {
   "cell_type": "code",
   "execution_count": 13,
   "metadata": {
    "scrolled": false
   },
   "outputs": [
    {
     "name": "stdout",
     "output_type": "stream",
     "text": [
      "X_train shape (1257, 64)\n",
      "X_test shape (540, 64)\n",
      "torch.Size([1257, 64]) torch.Size([540, 64]) torch.Size([1257]) torch.Size([540])\n"
     ]
    }
   ],
   "source": [
    "from sklearn.model_selection import train_test_split\n",
    "X_train, X_test, y_train, y_test = train_test_split(x_data, y_label, test_size=0.3, random_state=0)\n",
    "print(\"X_train shape\", X_train.shape)\n",
    "print(\"X_test shape\", X_test.shape)\n",
    "X_train, X_test = torch.from_numpy(X_train), torch.from_numpy(X_test)\n",
    "y_train, y_test = torch.from_numpy(y_train), torch.from_numpy(y_test)\n",
    "print(X_train.shape, X_test.shape, y_train.shape, y_test.shape)"
   ]
  },
  {
   "cell_type": "markdown",
   "metadata": {},
   "source": [
    "### Build Model"
   ]
  },
  {
   "cell_type": "code",
   "execution_count": 5,
   "metadata": {},
   "outputs": [],
   "source": [
    "import torch.nn as nn"
   ]
  },
  {
   "cell_type": "code",
   "execution_count": 54,
   "metadata": {},
   "outputs": [
    {
     "name": "stdout",
     "output_type": "stream",
     "text": [
      "Build model finished.\n"
     ]
    }
   ],
   "source": [
    "step_size = 0.1\n",
    "\n",
    "# 构造训练模型三要素\n",
    "# 1. 神经网络模型\n",
    "# 2. 优化器\n",
    "# 3. 损失函数\n",
    "model = nn.Sequential(\n",
    "    nn.Linear(in_features=64, out_features=32),\n",
    "    nn.ReLU(),\n",
    "    nn.Linear(in_features=32, out_features=16),\n",
    "    nn.ReLU(),\n",
    "    nn.Linear(in_features=16, out_features=10),\n",
    "    nn.Softmax(dim=1)\n",
    ")\n",
    "\n",
    "optim = torch.optim.Adam(model.parameters(), lr = step_size)\n",
    "\n",
    "loss_func = nn.CrossEntropyLoss()\n",
    "\n",
    "print(\"Build model finished.\")"
   ]
  },
  {
   "cell_type": "markdown",
   "metadata": {},
   "source": [
    "### Train Model"
   ]
  },
  {
   "cell_type": "code",
   "execution_count": 55,
   "metadata": {},
   "outputs": [
    {
     "name": "stdout",
     "output_type": "stream",
     "text": [
      "Begin train model...\n",
      "iter,\tloss,\tacc\n",
      "0,\t2.30,\t0.09\n",
      "1000,\t1.65,\t0.74\n",
      "2000,\t1.56,\t0.84\n",
      "3000,\t1.56,\t0.85\n",
      "4000,\t1.76,\t0.67\n",
      "5000,\t1.75,\t0.68\n",
      "6000,\t1.57,\t0.87\n",
      "7000,\t1.46,\t0.96\n",
      "8000,\t1.46,\t0.96\n",
      "9000,\t1.46,\t0.96\n"
     ]
    }
   ],
   "source": [
    "def acc(predict_res, y_label):\n",
    "    _, predict_label = predict_res.max(dim = 1)\n",
    "    return (predict_label == y_label).sum() / y_label.shape[0]\n",
    "\n",
    "n_epochs = 10000\n",
    "print(\"Begin train model...\")\n",
    "print('iter,\\tloss,\\tacc')\n",
    "for i in range(n_epochs):\n",
    "    y_hat = model(X_train.float())\n",
    "    loss = loss_func(y_hat, y_train)\n",
    "    optim.zero_grad()\n",
    "    loss.backward()\n",
    "    optim.step()\n",
    "    \n",
    "    if i % (n_epochs // 10) == 0:\n",
    "         print('{},\\t{:.2f},\\t{:.2f}'.format(i, loss.item(), acc(model(X_test.float()), y_test).numpy()))"
   ]
  },
  {
   "cell_type": "markdown",
   "metadata": {},
   "source": [
    "### Valid dataset"
   ]
  },
  {
   "cell_type": "code",
   "execution_count": 56,
   "metadata": {},
   "outputs": [
    {
     "name": "stdout",
     "output_type": "stream",
     "text": [
      "Accuracy 0.9592593\n"
     ]
    }
   ],
   "source": [
    "print(\"Accuracy\", acc(model(X_test.float()), y_test).numpy())"
   ]
  },
  {
   "cell_type": "markdown",
   "metadata": {},
   "source": [
    "### Save Model State"
   ]
  },
  {
   "cell_type": "code",
   "execution_count": 57,
   "metadata": {},
   "outputs": [],
   "source": [
    "torch.save(model.state_dict(), './softmax.model')"
   ]
  }
 ],
 "metadata": {
  "kernelspec": {
   "display_name": "Python 3",
   "language": "python",
   "name": "python3"
  },
  "language_info": {
   "codemirror_mode": {
    "name": "ipython",
    "version": 3
   },
   "file_extension": ".py",
   "mimetype": "text/x-python",
   "name": "python",
   "nbconvert_exporter": "python",
   "pygments_lexer": "ipython3",
   "version": "3.8.5"
  }
 },
 "nbformat": 4,
 "nbformat_minor": 2
}
